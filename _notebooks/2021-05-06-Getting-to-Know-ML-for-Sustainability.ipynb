{
 "cells": [
  {
   "cell_type": "markdown",
   "metadata": {},
   "source": [
    "# \"Getting to Know Machine Learning for Sustainability\"\n",
    "> \"This post was originally published as a learning recipe on the [aggregate intellect website](https://ai.science). See [this learning recipe](https://ai.science/l/04fe49e6-03b3-4b70-bf08-6cb638d08dd4@/) for an interactive version of this post and to comment or collaborate.\"\n",
    "\n",
    "- toc: true\n",
    "- branch: master\n",
    "- badges: true\n",
    "- comments: true\n",
    "- categories: [machine learning, sustainability, environmental]\n",
    "- hide: false\n",
    "- search_exclude: true"
   ]
  },
  {
   "cell_type": "markdown",
   "metadata": {},
   "source": [
    "## What is ML for Sustainability?\n",
    "In this post, I’ll provide an overview of how ML can help preserve natural resources and maintain economic and environmental sustainability.\n",
    "\n",
    "## Who Is This For?\n",
    "Any ML practitioner interested in applying ML to the environment, or any environmental engineer, environmental scientist, or sustainability professional interested in learning about how ML can improve their field.\n",
    "\n",
    "## Main Resources\n",
    "1. Watch [AI for a Sustainable Future: Think Globally, Act Locally!](https://ai.science/e/ai-for-a-sustainable-future-think-globally-act-locally--AlR7yZE2wsUQDlUT6AFj@/streams/ai-sustainability) in order to answer questions like, “What is the future of sustainability?” and “What are the key challenges and the contributions of ML in industries that play a role in the future of sustainability?\"\n",
    "2. Read pages 8-10 of [How AI Can Enable a Sustainable Future | Microsoft & PWC](https://www.pwc.co.uk/sustainability-climate-change/assets/pdf/how-ai-can-enable-a-sustainable-future.pdf) in order to answer questions like, “What is the impact of ML in the future of the economy and the environment?” “What industries have a significant carbon footprint and how can utilizing ML reduce carbon emissions in those industries?” and “What is the impact of ML in the future job market?”\n",
    "3. Read [Environmental Sustainability and AI | Forbes](https://www.forbes.com/sites/glenngow/2020/08/21/environmental-sustainability-and-ai/?sh=288abea67db3) in order to answer questions like, “Does ML have a carbon footprint?” and “How can ML be used to reduce carbon footprints?”\n",
    "4. Read [How IoT and AI Can Enable Environmental Sustainability | Forbes](https://www.forbes.com/sites/cognitiveworld/2019/09/04/how-iot-and-ai-can-enable-environmental-sustainability/?sh=60cd8f7668df) in order to answer questions like, “What are some uses of ML for environmental sustainability?”\n",
    "5. Visit [AI for Earth Technical Resources | Microsoft](https://www.microsoft.com/en-us/ai/ai-for-earth-tech-resources#primaryR10) in order to answer questions like, “What are some of the available open-source tools addressing ML for sustainability?” Explore and try out the APIs, data, and notebooks, and start applying your ML skills to environmental issues.\n",
    "\n",
    "## Additional Resources\n",
    "1. Skim [Leveraging Temporal Context for Object Detection | Google AI](https://ai.googleblog.com/2020/06/leveraging-temporal-context-for-object.html) in order to answer questions like “How is ML useful in species protection?” Click on the links in the post if you want to learn more.\n",
    "2. Skim [The Technology Behind our Recent Improvements in Flood Forecasting | Google AI](https://ai.googleblog.com/2020/09/the-technology-behind-our-recent.html) in order to answer questions like, “Can ML be used for forecasting natural disasters?” Click on the links in the post if you want to learn more.\n",
    "\n",
    "## Conclusion\n",
    "Sustainability is not just for science; it’s relevant to business, public health, legislation development, and engineering. Research and funding for ML applications in sustainability are increasing with time. Now is the time to start contributing. To learn more, join the [Machine Learning in Sustainability and the Environment discussion group](https://ai.science/dg).\n",
    "\n",
    "This learning recipe and blog post was created by [Moja Afroughi](https://www.linkedin.com/in/afroughi/), [Yan Nusinovich](https://www.linkedin.com/in/ynusinovich/), [Ann Dao](https://www.linkedin.com/in/anhdaotv/), and [Anat Nusinovich](https://www.linkedin.com/in/anatdemb/). For more learning recipes, visit the [aggregate intellect website](https://ai.science) and create a free account.\n",
    "\n",
    "To learn more about learning recipes via a learning recipe, see [RECIPE 0](https://ai.science/l/5787e0c1-be18-4953-b911-5064b243d522)."
   ]
  },
  {
   "cell_type": "code",
   "execution_count": null,
   "metadata": {},
   "outputs": [],
   "source": []
  }
 ],
 "metadata": {
  "kernelspec": {
   "display_name": "Python 3",
   "language": "python",
   "name": "python3"
  },
  "language_info": {
   "codemirror_mode": {
    "name": "ipython",
    "version": 3
   },
   "file_extension": ".py",
   "mimetype": "text/x-python",
   "name": "python",
   "nbconvert_exporter": "python",
   "pygments_lexer": "ipython3",
   "version": "3.7.6"
  }
 },
 "nbformat": 4,
 "nbformat_minor": 4
}
