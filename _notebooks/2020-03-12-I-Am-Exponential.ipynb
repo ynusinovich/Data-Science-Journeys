{
 "cells": [
  {
   "cell_type": "markdown",
   "metadata": {},
   "source": [
    "# \"I Am Exponential Distributions (And So Can You!)\"\n",
    "> \"A beginner's guide to exponential distributions and coding them in Python.\"\n",
    "\n",
    "- toc: true\n",
    "- branch: master\n",
    "- badges: true\n",
    "- comments: true\n",
    "- categories: [exponential distributions, statistics]\n",
    "- hide: false\n",
    "- search_exclude: true"
   ]
  },
  {
   "cell_type": "markdown",
   "metadata": {},
   "source": [
    "# I Am Exponential Distributions (And So Can You!)\\*\n",
    "\\*Title generously adapted from [Stephen Colbert](https://en.wikipedia.org/wiki/I_Am_America_(And_So_Can_You!))"
   ]
  },
  {
   "cell_type": "markdown",
   "metadata": {},
   "source": [
    "## Theory\n",
    "### Theory and background on exponential distributions.\n",
    "Adapted from [General Assembly's *Data Science Immersive*](https://generalassemb.ly/education/data-science-immersive/) and  [Lumen Learning's *Introduction to Statistics*](https://courses.lumenlearning.com/introstats1/chapter/the-exponential-distribution/).\n",
    "- We use the exponential distribution when we are interested in modeling the **amount of time until a success occurs**. Since time is continuous, the exponential distribution is a continuous distribution. (The exponential distribution can also be used to model situations where certain events occur with a constant probability per unit value, such as length or money.)\n",
    "- There are fewer large values and more small values for an exponential distribution.\n",
    "- The exponential distribution has the **memoryless property**, which says that future probabilities do not depend on any past information.\n",
    "- The parameter of the distribution is β, the average time to an event (or the average distance, average amount of money, etc.).\n",
    "- If we are modeling the amount of time until a success occurs, then x is the time elapsed (otherwise it's the distance, amount of money, etc.).\n",
    "- The probability density function (PDF, the relative likelihood of success at any given x) is:\n",
    "<p style=\"text-align: center;\">$f(x|\\beta) = \\frac{1}{\\beta} e^{-x/\\beta}$</p>\n",
    "- The cumulative distribution function (CDF, the probability of success at a value less than or equal to any given x) is:\n",
    "<p style=\"text-align: center;\">$F(x|\\beta) = 1 - e^{-x/\\beta}$</p>"
   ]
  },
  {
   "cell_type": "markdown",
   "metadata": {},
   "source": [
    "## Examples\n",
    "### Real-world examples of the exponential distribution, along with possible values of β.\n",
    "Adapted from [Lumen Learning's *Introduction to Statistics*](https://courses.lumenlearning.com/introstats1/chapter/the-exponential-distribution/).\n",
    "- The amount of time, in days, until an earthquake of magnitude 7 or greater on the Richter scale occurs on Earth.\n",
    "    - $\\beta$ = 20\n",
    "- The length, in minutes, of long distance business telephone calls.\n",
    "    - $\\beta$ = 112\n",
    "- The value, in cents, of the change that you have in your pocket or purse.\n",
    "    - $\\beta$ = 50\n",
    "- The distance, in kilometers, between roadkill on a given road.\n",
    "    - $\\beta$ = 100\n",
    "- The amount of dollars customers spend in one trip to the supermarket.\n",
    "    - $\\beta$ = 100\n",
    "- The amount of time, in minutes, a postal clerk spends with their customer. \n",
    "    - $\\beta$ = 4\n",
    "- The amount of time, in minutes, spouses shop for anniversary cards.\n",
    "    - $\\beta$ = 8\n",
    "- The number of days ahead that travelers purchase their airline tickets.\n",
    "    - $\\beta$ = 15\n",
    "- How long a computer part lasts, in years.\n",
    "    - $\\beta$ = 10\n",
    "- Time for the next customer to arrive at a store, in minutes.\n",
    "    - $\\beta$ = 2\n",
    "- Time until the next call at a police station in a large city, in minutes.\n",
    "    - $\\beta$ = 0.25"
   ]
  },
  {
   "cell_type": "markdown",
   "metadata": {},
   "source": [
    "## Code\n",
    "### How to plot the PDF and the CDF of an exponential distribution in Python.\n",
    "Adapted from [General Assembly's *Data Science Immersive*](https://generalassemb.ly/education/data-science-immersive/).\n",
    "- Begin by importing the following:\n",
    "    - numpy, in order to create our array of x values,\n",
    "    - matplotlib, in order to create the plot, and\n",
    "    - scipy.stats, in order to calculate the PDF and the CDF for each x value.\n",
    "- Add the lines below the <mark>import</mark> functions to configure how the plots will display."
   ]
  },
  {
   "cell_type": "code",
   "execution_count": null,
   "metadata": {},
   "outputs": [],
   "source": [
    "#collapse_show\n",
    "import numpy as np\n",
    "import scipy.stats as stats\n",
    "import matplotlib.pyplot as plt\n",
    "\n",
    "%config InlineBackend.figure_format = 'retina'\n",
    "%matplotlib inline"
   ]
  },
  {
   "cell_type": "markdown",
   "metadata": {},
   "source": [
    "Write a function that will plot a PDF given a choice of input values:\n",
    "- Low and high x values (<mark>low</mark>, <mark>high</mark>)\n",
    "- The name of your plot (<mark>dist_name</mark>)\n",
    "- The label for your x-axis (<mark>x_label</mark>)\n",
    "- The statistical distribution (<mark>stats_dist</mark>)\n",
    "- The width of the plot lines (<mark>lw</mark>)\n",
    "\n",
    "You can use this function again later to plot other statistical distributions"
   ]
  },
  {
   "cell_type": "code",
   "execution_count": null,
   "metadata": {},
   "outputs": [],
   "source": [
    "#collapse_show\n",
    "def plot_continuous_pdf(low, high, dist_name = 'Continuous', xlabel = 'Time', stats_dist = None, lw = 5):\n",
    "        \n",
    "    x = np.arange(low, high + 1)\n",
    "    \n",
    "    fig, ax = plt.subplots(1, 1, figsize=(10,5))\n",
    "    \n",
    "    ax.set_xlim(low - 1, high + 1)\n",
    "    ax.set_xlabel(xlabel, fontsize = 16)\n",
    "    ax.set_ylabel('Probability Density Function (pdf)', fontsize = 16)\n",
    "    ax.plot(x, stats_dist.pdf(x), color = 'darkred', lw = lw)\n",
    "    ax.set_ylim(0, np.max(stats_dist.pdf(x)) + 0.03)\n",
    "    \n",
    "    plt.title(f'{dist_name} \\n', fontsize = 20)\n",
    "\n",
    "    plt.show()"
   ]
  },
  {
   "cell_type": "markdown",
   "metadata": {},
   "source": [
    "Call the function with reasonable input values for the model, including:\n",
    "- x-values from a low of 0 to a high of wherever your probabilities approach 0\n",
    "- A statistical distribution of <mark>stats.expon(scale = $\\beta$)</mark> for the exponential distribution"
   ]
  },
  {
   "cell_type": "code",
   "execution_count": null,
   "metadata": {},
   "outputs": [],
   "source": [
    "#collapse_show\n",
    "plot_continuous_pdf(0, 60, dist_name = 'Probability/time of exactly X minutes until next bus', \n",
    "                    stats_dist = stats.expon(scale = 6), xlabel = 'Minutes')"
   ]
  },
  {
   "cell_type": "markdown",
   "metadata": {},
   "source": [
    "The PDF shows the chance per time of a bus arriving at any given moment, given that the bus arrives an average of once every six minutes."
   ]
  },
  {
   "attachments": {},
   "cell_type": "markdown",
   "metadata": {},
   "source": [
    "![](2020-03-12-Image-1.png)"
   ]
  },
  {
   "cell_type": "markdown",
   "metadata": {},
   "source": [
    "Write a function that will plot a CDF given a choice of input values:\n",
    "- Low and high x values (<mark>low</mark>, <mark>high</mark>)\n",
    "- The name of your plot (<mark>dist_name</mark>)\n",
    "- The label for your x-axis (<mark>x_label</mark>)\n",
    "- The statistical distribution (<mark>stats_dist</mark>)\n",
    "- The width of the plot lines (<mark>lw</mark>)\n",
    "\n",
    "You can use this function again later to plot other statistical distributions"
   ]
  },
  {
   "cell_type": "code",
   "execution_count": null,
   "metadata": {},
   "outputs": [],
   "source": [
    "#collapse_show\n",
    "def plot_continuous_cdf(low, high, dist_name = 'Continuous', xlabel = 'Time', stats_dist = None):\n",
    "        \n",
    "    x = np.linspace(low, high + 1, 300)\n",
    "    \n",
    "    fig, ax = plt.subplots(1, 1, figsize = (10, 5))\n",
    "\n",
    "    ax.set_ylim(0, 1.1)\n",
    "    ax.set_xlim(low - 1, high + 1)\n",
    "    ax.set_xlabel(xlabel, fontsize = 16)\n",
    "    ax.set_ylabel('Cumulative Distribution Function (cdf)', fontsize = 16)\n",
    "    \n",
    "    ax.plot(x, stats_dist.cdf(x), lw = 4, color = 'darkblue')\n",
    "\n",
    "    plt.title(f'{dist_name} \\n', fontsize = 20)\n",
    "\n",
    "    plt.show()"
   ]
  },
  {
   "cell_type": "markdown",
   "metadata": {},
   "source": [
    "Call the function with reasonable input values for the model, including:\n",
    "- x-values from a low of 0 to a high of wherever your probabilities approach 0\n",
    "- A statistical distribution of <mark>stats.expon(scale = $\\beta$)</mark> for the exponential distribution"
   ]
  },
  {
   "cell_type": "code",
   "execution_count": null,
   "metadata": {},
   "outputs": [],
   "source": [
    "#collapse_show\n",
    "plot_continuous_cdf(0, 60, dist_name = 'Probability of X or fewer minutes until next bus', \n",
    "                    stats_dist = stats.expon(scale = 6), xlabel = 'Minutes')"
   ]
  },
  {
   "cell_type": "markdown",
   "metadata": {},
   "source": [
    "The CDF shows the chance of a bus arriving at or before any moment, given that the bus arrives an average of once every six minutes."
   ]
  },
  {
   "attachments": {},
   "cell_type": "markdown",
   "metadata": {},
   "source": [
    "![](2020-03-12-Image-2.png)"
   ]
  },
  {
   "cell_type": "code",
   "execution_count": null,
   "metadata": {},
   "outputs": [],
   "source": []
  }
 ],
 "metadata": {
  "kernelspec": {
   "display_name": "Python 3",
   "language": "python",
   "name": "python3"
  },
  "language_info": {
   "codemirror_mode": {
    "name": "ipython",
    "version": 3
   },
   "file_extension": ".py",
   "mimetype": "text/x-python",
   "name": "python",
   "nbconvert_exporter": "python",
   "pygments_lexer": "ipython3",
   "version": "3.7.9"
  }
 },
 "nbformat": 4,
 "nbformat_minor": 4
}
